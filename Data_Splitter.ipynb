{
  "cells": [
    {
      "cell_type": "markdown",
      "metadata": {
        "id": "view-in-github",
        "colab_type": "text"
      },
      "source": [
        "<a href=\"https://colab.research.google.com/github/hsschachter/annotation_project/blob/main/Data_Splitter.ipynb\" target=\"_parent\"><img src=\"https://colab.research.google.com/assets/colab-badge.svg\" alt=\"Open In Colab\"/></a>"
      ]
    },
    {
      "cell_type": "markdown",
      "source": [
        "# Data Splitter Script\n",
        "\n",
        "This script is designed to help you split your data into n files (where n is the number of people in your group) and ensure that the files align with the requirement in the [AP4 Guideline](https://bcourses.berkeley.edu/courses/1542734/assignments/8862636).\n",
        "\n",
        "As a reminder, these are the requirements for the data:\n",
        "\n",
        "* each document should be labeled **independently by two group members**\n",
        "\n",
        "* each group member should annotate **250 documents**\n",
        "\n",
        "This script will ensure your data meets those criteria.\n",
        "\n",
        "To get started make sure your dataset:\n",
        "\n",
        "* has at least 500 documents.\n",
        "* has **exactly** two columns: **ID** and **text**\n"
      ],
      "metadata": {
        "id": "Nr7oebMdk4vA"
      },
      "id": "Nr7oebMdk4vA"
    },
    {
      "cell_type": "markdown",
      "id": "c6d69021",
      "metadata": {
        "id": "c6d69021"
      },
      "source": [
        "Run this notebook to check that your annotated data is in the proper format.  There are two things you need to do:\n",
        "\n",
        "1. Change this file to point to your data."
      ]
    },
    {
      "cell_type": "code",
      "execution_count": null,
      "id": "a4994308",
      "metadata": {
        "id": "a4994308"
      },
      "outputs": [],
      "source": [
        "path_to_file=\"500_sampled_quotes.tsv\""
      ]
    },
    {
      "cell_type": "markdown",
      "id": "f3a188e7",
      "metadata": {
        "id": "f3a188e7"
      },
      "source": [
        "2. Now execute the rest of the cells below.  If this throws any errors, or notes any failures, go back and correct your data to be in the proper format."
      ]
    },
    {
      "cell_type": "code",
      "execution_count": null,
      "id": "22c96555",
      "metadata": {
        "id": "22c96555"
      },
      "outputs": [],
      "source": [
        "import random\n",
        "random.seed(1)\n",
        "from random import shuffle\n",
        "\n",
        "def check_file(filename, num_annotators=4):\n",
        "    num_docs=125*num_annotators\n",
        "    data=[]\n",
        "    n_rows=0\n",
        "    with open(filename, encoding=\"utf-8\") as file:\n",
        "        for idx, line in enumerate(file):\n",
        "            cols=line.rstrip().split(\"\\t\")\n",
        "            assert len(cols) == 2, \"%s does not have 2 columns\" % cols\n",
        "            assert len(cols[0]) > 0, \"ID #%s# in row %s is empty\" % (cols[0], idx)\n",
        "            assert len(cols[1]) > 0, \"text #%s# in row %s is empty\" % (cols[1], idx)\n",
        "            n_rows+=1\n",
        "            data.append((cols[0], cols[1]))\n",
        "\n",
        "        assert n_rows >= num_docs, \"You must have at least %s documents; this file only has %s\" % (num_docs, n_rows)\n",
        "\n",
        "        print(\"This file looks to be in the correct format; %s data points\" % n_rows)\n",
        "\n",
        "\n",
        "    shuffle(data)\n",
        "    data=data[:num_docs]\n",
        "    annotators={}\n",
        "    annotator_workload={}\n",
        "    data_assignments={}\n",
        "\n",
        "    for i in range(num_annotators):\n",
        "        annotators[i]=[]\n",
        "\n",
        "    pairs=[]\n",
        "    for i in range(num_annotators):\n",
        "        for j in range(i+1, num_annotators):\n",
        "            pairs.append((i,j))\n",
        "\n",
        "    indexes=[]\n",
        "    for i in range(int(num_docs/len(pairs))):\n",
        "        for p in pairs:\n",
        "            indexes.append(p)\n",
        "\n",
        "    if num_annotators == 4:\n",
        "        indexes.append(pairs[0])  # 0,1\n",
        "        indexes.append(pairs[-1]) # 2,3\n",
        "\n",
        "    data2ann={}\n",
        "\n",
        "    for datum in data:\n",
        "        data_idx=datum[0]\n",
        "\n",
        "        idx = random.choice(indexes)\n",
        "\n",
        "        annotators[idx[0]].append(datum)\n",
        "        annotators[idx[1]].append(datum)\n",
        "\n",
        "        indexes.remove(idx)\n",
        "\n",
        "        data2ann[data_idx]=idx\n",
        "\n",
        "    for ann_idx in annotators:\n",
        "        print(\"annotator\", ann_idx, len(annotators[ann_idx]), \"data points to annotate\")\n",
        "\n",
        "    for i in annotators:\n",
        "        with open(\"output_annotation_file_%s.txt\" % i, \"w\") as out:\n",
        "            out.write(\"ID\\tLabel\\tText\\n\")\n",
        "\n",
        "            for idd, text in annotators[i]:\n",
        "                out.write(\"%s\\t\\t%s\\n\" % (idd, text))\n",
        "\n",
        "\n"
      ]
    },
    {
      "cell_type": "code",
      "execution_count": null,
      "id": "fa02ceec",
      "metadata": {
        "id": "fa02ceec",
        "outputId": "11b8a326-fa11-4ab0-e4ad-cd34fdf7c77f"
      },
      "outputs": [
        {
          "name": "stdout",
          "output_type": "stream",
          "text": [
            "This file looks to be in the correct format; 1000 data points\n",
            "annotator 0 250 data points to annotate\n",
            "annotator 1 250 data points to annotate\n",
            "annotator 2 250 data points to annotate\n",
            "annotator 3 250 data points to annotate\n"
          ]
        }
      ],
      "source": [
        "check_file(path_to_file, num_annotators=4)"
      ]
    },
    {
      "cell_type": "markdown",
      "id": "220dd7e9",
      "metadata": {
        "id": "220dd7e9"
      },
      "source": [
        "# Output"
      ]
    },
    {
      "cell_type": "markdown",
      "id": "f09cfe72",
      "metadata": {
        "id": "f09cfe72"
      },
      "source": [
        "If the cell above ran successfully, you should find `num_annotators` files in the same directory as this script.  Give one file to each annotator in your group; this is the file you should submit to bCourses (with the label column containing your *individual* annotation for that text following your guidelines)."
      ]
    },
    {
      "cell_type": "code",
      "execution_count": null,
      "id": "d5d08ddf",
      "metadata": {
        "id": "d5d08ddf"
      },
      "outputs": [],
      "source": []
    }
  ],
  "metadata": {
    "kernelspec": {
      "display_name": "Python 3 (ipykernel)",
      "language": "python",
      "name": "python3"
    },
    "language_info": {
      "codemirror_mode": {
        "name": "ipython",
        "version": 3
      },
      "file_extension": ".py",
      "mimetype": "text/x-python",
      "name": "python",
      "nbconvert_exporter": "python",
      "pygments_lexer": "ipython3",
      "version": "3.8.3"
    },
    "colab": {
      "provenance": [],
      "include_colab_link": true
    }
  },
  "nbformat": 4,
  "nbformat_minor": 5
}